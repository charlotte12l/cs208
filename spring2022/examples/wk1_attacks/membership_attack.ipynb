{
 "cells": [
  {
   "cell_type": "markdown",
   "metadata": {},
   "source": [
    "# Demonstrate membership inference attacks on means by test statistics"
   ]
  },
  {
   "cell_type": "markdown",
   "metadata": {},
   "source": [
    "## Tuneable simulation parameters"
   ]
  },
  {
   "cell_type": "code",
   "execution_count": 13,
   "metadata": {
    "allow_embed": "code_output",
    "cell_id": "5e4e267f-64c9-4a0d-833f-b7276904f6ff",
    "deepnote_cell_type": "code",
    "deepnote_output_heights": [
     null,
     254
    ],
    "deepnote_to_be_reexecuted": false,
    "execution_millis": 1110,
    "execution_start": 1643863648405,
    "source_hash": "3c70c202",
    "tags": []
   },
   "outputs": [],
   "source": [
    "import numpy as np\n",
    "from scipy import stats\n",
    "import math\n",
    "np.random.seed(123)\n",
    "\n",
    "## PARAMETERS\n",
    "n_sims = 10000\n",
    "n_samples = 10\n",
    "k_att = 100"
   ]
  },
  {
   "cell_type": "markdown",
   "metadata": {},
   "source": [
    "## Define utility functions for simulating data and calculating the test statistics"
   ]
  },
  {
   "cell_type": "code",
   "execution_count": 14,
   "metadata": {
    "cell_id": "4f517e7a-af70-48f4-95dc-2c6792502fb2",
    "deepnote_cell_type": "code",
    "deepnote_to_be_reexecuted": false,
    "execution_millis": 10,
    "execution_start": 1643863649532,
    "source_hash": "f6dabd04",
    "tags": []
   },
   "outputs": [],
   "source": [
    "def synthesize(population_prob, n=1):\n",
    "    \"\"\"Utility function to simulate sampling from a population.\n",
    "    Each column is sampled with the coin-flip probability defined in population_prob.\"\"\"\n",
    "    x = np.random.binomial(n=1, p=population_prob, size=(n, len(population_prob)))\n",
    "    #x[x == 0] = -1  # Sometimes it is convenient in ML to recode as {-1,1}\n",
    "    return x\n",
    "\n",
    "\n",
    "## TEST STATISTICS\n",
    "def test_homer(alice, sample_mean, population_mean):\n",
    "    \"\"\"Calculates the Homer test statistic\"\"\"\n",
    "    test_statistic = sum(abs(alice - population_mean) - abs(alice - sample_mean))\n",
    "    return test_statistic\n",
    "\n",
    "\n",
    "def test_dwork(alice, sample_mean, population_mean):\n",
    "    \"\"\"Calculates the Dwork et al. test statistic using the population means\n",
    "    Let `population_mean=referent` if using only a single individual from the population as a referent.\n",
    "    \"\"\"\n",
    "    test_statistic = np.dot(alice-population_mean, sample_mean-population_mean)\n",
    "    return test_statistic\n",
    "\n",
    "\n",
    "def null_distribution(fun, population_prob, population_mean, null_sims=1000, alpha=0.05):\n",
    "    \"\"\"Simulates the null distribution\"\"\"\n",
    "    # A null distribution and critical value generator\n",
    "    hold = []\n",
    "\n",
    "    for i in range(null_sims):\n",
    "        sample_mean = synthesize(population_prob, n=n_samples).mean(axis=0)\n",
    "        null_alice = synthesize(population_prob)[0]\n",
    "        # referent = synthesize(population_prob)[0]\n",
    "\n",
    "        hold.append(fun(null_alice, sample_mean, population_mean))\n",
    "\n",
    "    null_dist_vals = np.sort(hold)[::-1]\n",
    "    return {\n",
    "        \"nulldist\": null_dist_vals,\n",
    "        \"critical_val\": null_dist_vals[round(alpha * null_sims)]\n",
    "    }"
   ]
  },
  {
   "cell_type": "markdown",
   "metadata": {},
   "source": [
    "## Simple graph function for showing the distribution, partitioned by critical value"
   ]
  },
  {
   "cell_type": "code",
   "execution_count": 15,
   "metadata": {
    "cell_id": "6562d03c-443e-49e7-9f19-ddce57f41b0d",
    "deepnote_cell_type": "code",
    "deepnote_to_be_reexecuted": false,
    "execution_millis": 2702,
    "execution_start": 1643863649564,
    "source_hash": "1ce72994",
    "tags": []
   },
   "outputs": [],
   "source": [
    "import matplotlib.pyplot as plt\n",
    "\n",
    "\n",
    "def show_distribution(x, critical_value, title):\n",
    "    \"\"\"Visualize the distribution with a density plot\"\"\"\n",
    "\n",
    "    # https://docs.scipy.org/doc/scipy/reference/generated/scipy.stats.gaussian_kde.html\n",
    "    kernel = stats.gaussian_kde(x)\n",
    "    support = np.linspace(min(x) - kernel.factor, max(x) + kernel.factor, num=500)\n",
    "    densities = kernel(support)\n",
    "\n",
    "    flag = support < critical_value\n",
    "    max_density = max(densities)\n",
    "\n",
    "    plt.fill_between(support[flag], densities[flag], color='#005aef80')\n",
    "    plt.fill_between(support[~flag], densities[~flag], color='#ef5c0080')\n",
    "    plt.axvline(x=critical_value)\n",
    "    plt.text(x=critical_value, y=0.8*max_density, s=\" OUT\", horizontalalignment='left')\n",
    "    plt.text(x=critical_value, y=0.8*max_density, s=\"IN \", horizontalalignment='right')\n",
    "    plt.text(x=critical_value, y=0.7*max_density, s=f' {(x > critical_value).mean():.2}', horizontalalignment='left')\n",
    "    plt.title(title)\n",
    "    plt.xlabel(\"Test Statistic\")\n",
    "    plt.ylabel(\"Density\")\n",
    "    plt.show()"
   ]
  },
  {
   "cell_type": "markdown",
   "metadata": {},
   "source": [
    "## Simulate and graph a null distribution"
   ]
  },
  {
   "cell_type": "code",
   "execution_count": 16,
   "metadata": {
    "cell_id": "3f21664a-836f-44b0-a152-1f6c7ae368d8",
    "deepnote_cell_type": "code",
    "deepnote_output_heights": [
     280,
     250
    ],
    "deepnote_to_be_reexecuted": false,
    "execution_millis": 942,
    "execution_start": 1643863652280,
    "source_hash": "81a94149",
    "tags": []
   },
   "outputs": [
    {
     "data": {
      "image/png": "[encoded data removed]",
      "text/plain": [
       "<Figure size 432x288 with 1 Axes>"
      ]
     },
     "metadata": {
      "needs_background": "light"
     },
     "output_type": "display_data"
    }
   ],
   "source": [
    "# Generate underlying population attributes\n",
    "population_prob = np.random.uniform(size=k_att)\n",
    "population_mean = population_prob \n",
    "# population_mean = 2*population_prob - 1.  # If we are recoding to {-1,1} in next function\n",
    "\n",
    "# Find the null distribution\n",
    "output = null_distribution(test_homer, population_prob, population_mean)\n",
    "testdist = output[\"nulldist\"]\n",
    "criticalValue = output[\"critical_val\"]\n",
    "show_distribution(testdist, criticalValue, title=\"Null Distribution with Critical Value\")\n",
    "plt.show()"
   ]
  },
  {
   "cell_type": "markdown",
   "metadata": {},
   "source": [
    "## Here is our core simulation.  We are going to iterate across datasets, calculate the discrimination of the test statistic among observations in the private data and the null population."
   ]
  },
  {
   "cell_type": "code",
   "execution_count": 17,
   "metadata": {
    "cell_id": "4b7a854e-d296-4560-bce3-7667622a4b09",
    "deepnote_cell_type": "code",
    "deepnote_output_heights": [
     40
    ],
    "deepnote_to_be_reexecuted": false,
    "execution_millis": 7154,
    "execution_start": 1643863653220,
    "source_hash": "2d67ae45",
    "tags": []
   },
   "outputs": [],
   "source": [
    "## SIMULATE \n",
    "\n",
    "# of length n_sims, with 4 values in each\n",
    "history = np.zeros(shape=(n_sims, 4))\n",
    "\n",
    "alpha = 0.01\n",
    "# Find null distributions\n",
    "nullDist_Homer = null_distribution(test_homer, population_prob, population_mean, alpha=alpha)\n",
    "nullDist_Dwork = null_distribution(test_dwork, population_prob, population_mean, alpha=alpha)\n",
    "\n",
    "for i in range(n_sims):\n",
    "    # Simulate data\n",
    "    sample = synthesize(population_prob, n=n_samples)\n",
    "    sample_mean = sample.mean(axis=0)\n",
    "    alice = sample[0]\n",
    "    null_alice = synthesize(population_prob, n=1)[0]\n",
    "    # referent = synthesize(population_prob, n=1)[0]\n",
    "\n",
    "    # Store simulated values\n",
    "    history[i, :] = [\n",
    "        # homer statistics\n",
    "        test_homer(alice=alice, sample_mean=sample_mean, population_mean=population_mean), \n",
    "        test_homer(alice=null_alice, sample_mean=sample_mean, population_mean=population_mean), \n",
    "\n",
    "        # dwork statistics\n",
    "        test_dwork(alice=alice, sample_mean=sample_mean, population_mean=population_mean), \n",
    "        test_dwork(alice=null_alice, sample_mean=sample_mean, population_mean=population_mean)\n",
    "    ]"
   ]
  },
  {
   "cell_type": "code",
   "execution_count": 18,
   "metadata": {
    "cell_id": "06d58b2c-14ba-445b-912d-b5d88c0ac4a9",
    "deepnote_cell_type": "code",
    "deepnote_output_heights": [
     280,
     280,
     280,
     280
    ],
    "deepnote_to_be_reexecuted": false,
    "execution_millis": 1450,
    "execution_start": 1643863660527,
    "source_hash": "fb650849",
    "tags": []
   },
   "outputs": [
    {
     "data": {
      "image/png": "[encoded data removed]",
      "text/plain": [
       "<Figure size 432x288 with 1 Axes>"
      ]
     },
     "metadata": {
      "needs_background": "light"
     },
     "output_type": "display_data"
    },
    {
     "data": {
      "image/png": "[encoded data removed]",
      "text/plain": [
       "<Figure size 432x288 with 1 Axes>"
      ]
     },
     "metadata": {
      "needs_background": "light"
     },
     "output_type": "display_data"
    },
    {
     "data": {
      "image/png": "[encoded data removed]",
      "text/plain": [
       "<Figure size 432x288 with 1 Axes>"
      ]
     },
     "metadata": {
      "needs_background": "light"
     },
     "output_type": "display_data"
    },
    {
     "data": {
      "image/png": "[encoded data removed]",
      "text/plain": [
       "<Figure size 432x288 with 1 Axes>"
      ]
     },
     "metadata": {
      "needs_background": "light"
     },
     "output_type": "display_data"
    }
   ],
   "source": [
    "show_distribution(history[:, 0], critical_value=nullDist_Homer[\"critical_val\"], title=\"Homer Alice\")\n",
    "show_distribution(history[:, 1], critical_value=nullDist_Homer[\"critical_val\"], title=\"Homer Alice\")\n",
    "\n",
    "show_distribution(history[:, 2], critical_value=nullDist_Dwork[\"critical_val\"], title=\"Dwork Alice\")\n",
    "show_distribution(history[:, 3], critical_value=nullDist_Dwork[\"critical_val\"], title=\"Dwork Null\")\n",
    "\n",
    "# Tvalue = math.sqrt(8 * k_attributes * math.log(1 / alpha))\n",
    "# ax1.avxline(Tvalue, color=\"red\")\n",
    "# ax2.avxline(Tvalue, color=\"red\")"
   ]
  },
  {
   "cell_type": "markdown",
   "metadata": {},
   "source": [
    "## We can expand this simulation by iterating across the number of features available"
   ]
  },
  {
   "cell_type": "code",
   "execution_count": 19,
   "metadata": {
    "cell_id": "65fa7ce3-dddd-433d-b126-2d31c78fa275",
    "deepnote_cell_type": "code",
    "deepnote_output_heights": [
     192,
     325
    ],
    "deepnote_to_be_reexecuted": false,
    "execution_millis": 125096,
    "execution_start": 1643863661991,
    "source_hash": "a66c54b9",
    "tags": []
   },
   "outputs": [
    {
     "name": "stdout",
     "output_type": "stream",
     "text": [
      "[ 10  13  17  23  30  40  53  70  93 123 163 216 285 378 499]\n",
      "1 of 15: 10\n",
      "2 of 15: 13\n",
      "3 of 15: 17\n",
      "4 of 15: 23\n",
      "5 of 15: 30\n",
      "6 of 15: 40\n",
      "7 of 15: 53\n",
      "8 of 15: 70\n",
      "9 of 15: 93\n",
      "10 of 15: 123\n",
      "11 of 15: 163\n",
      "12 of 15: 216\n",
      "13 of 15: 285\n",
      "14 of 15: 378\n",
      "15 of 15: 499\n"
     ]
    }
   ],
   "source": [
    "## SIMULATE WITH VARYING NUMBER OF FEATURES\n",
    "\n",
    "# of length n_sims, with 4 values in each\n",
    "\n",
    "log_seq = np.linspace(start=math.log10(10), stop=math.log10(500), num=15)\n",
    "k_seq = (10**log_seq).astype(int)\n",
    "print(k_seq)\n",
    "\n",
    "all_history = np.zeros(shape=(len(k_seq), 3))\n",
    "\n",
    "alpha = 0.01\n",
    "\n",
    "\n",
    "for j, k_att in enumerate(k_seq):\n",
    "    print(f\"{j+1} of {len(k_seq)}: {k_att}\")\n",
    "\n",
    "    pop_prob = np.random.uniform(size=k_att)\n",
    "    pop_mean = pop_prob\n",
    "    #pop_mean = 2 * pop_prob - 1.  # If we are recoding to {-1,1} in next function\n",
    "\n",
    "    # Find null distributions\n",
    "    nullDist_Homer = null_distribution(test_homer, pop_prob, pop_mean, alpha=alpha)\n",
    "    nullDist_Dwork = null_distribution(test_dwork, pop_prob, pop_mean, alpha=alpha)\n",
    "\n",
    "    critical_value_Homer = nullDist_Homer[\"critical_val\"]\n",
    "    critical_value_Dwork = nullDist_Dwork[\"critical_val\"]\n",
    "\n",
    "\n",
    "    temp_history = np.zeros(shape=(n_sims, 2))\n",
    "\n",
    "    for i in range(n_sims):\n",
    "        # Simulate data\n",
    "        sample = synthesize(population_prob=pop_prob, n=n_samples)\n",
    "        sample_mean = sample.mean(axis=0)\n",
    "        alice = sample[0]\n",
    "        null_alice = synthesize(population_prob=pop_prob, n=1)[0]\n",
    "        # referent = synthesize(population_prob=pop_prob, n=1)[0]\n",
    "\n",
    "        # Store simulated values\n",
    "        temp_history[i, :] = [\n",
    "            # homer statistics\n",
    "            test_homer(alice=alice, sample_mean=sample_mean, population_mean=pop_mean), \n",
    "            # dwork statistics\n",
    "            test_dwork(alice=alice, sample_mean=sample_mean, population_mean=pop_mean) \n",
    "        ]\n",
    "\n",
    "    homer_membership_success_rate = (temp_history[:,0] > critical_value_Homer).mean() \n",
    "    dwork_membership_success_rate = (temp_history[:,1] > critical_value_Dwork).mean()\n",
    "\n",
    "    all_history[j, :] = [\n",
    "        k_att,\n",
    "        homer_membership_success_rate,\n",
    "        dwork_membership_success_rate,\n",
    "    ]\n"
   ]
  },
  {
   "cell_type": "code",
   "execution_count": 20,
   "metadata": {},
   "outputs": [
    {
     "data": {
      "text/plain": [
       "array([[1.000e+01, 9.060e-02, 7.320e-02],\n",
       "       [1.300e+01, 5.220e-02, 7.350e-02],\n",
       "       [1.700e+01, 1.175e-01, 1.361e-01],\n",
       "       [2.300e+01, 1.494e-01, 1.569e-01],\n",
       "       [3.000e+01, 1.296e-01, 2.714e-01],\n",
       "       [4.000e+01, 2.549e-01, 2.289e-01],\n",
       "       [5.300e+01, 3.579e-01, 4.048e-01],\n",
       "       [7.000e+01, 4.767e-01, 6.301e-01],\n",
       "       [9.300e+01, 5.917e-01, 7.197e-01],\n",
       "       [1.230e+02, 7.146e-01, 7.964e-01],\n",
       "       [1.630e+02, 8.678e-01, 9.350e-01],\n",
       "       [2.160e+02, 8.968e-01, 9.712e-01],\n",
       "       [2.850e+02, 9.850e-01, 9.942e-01],\n",
       "       [3.780e+02, 9.958e-01, 9.993e-01],\n",
       "       [4.990e+02, 9.998e-01, 1.000e+00]])"
      ]
     },
     "execution_count": 20,
     "metadata": {},
     "output_type": "execute_result"
    }
   ],
   "source": [
    "all_history"
   ]
  },
  {
   "cell_type": "code",
   "execution_count": 21,
   "metadata": {
    "cell_id": "bec81a60-9cdd-4a6b-b473-43d74f359061",
    "deepnote_cell_type": "code",
    "deepnote_output_heights": [
     280,
     254,
     250
    ],
    "deepnote_to_be_reexecuted": false,
    "execution_millis": 252,
    "execution_start": 1643863787097,
    "pycharm": {
     "name": "#%%\n"
    },
    "source_hash": "fe7a8858",
    "tags": []
   },
   "outputs": [
    {
     "data": {
      "image/png": "[encoded data removed]",
      "text/plain": [
       "<Figure size 432x288 with 1 Axes>"
      ]
     },
     "metadata": {
      "needs_background": "light"
     },
     "output_type": "display_data"
    }
   ],
   "source": [
    "plt.plot(all_history[0:len(k_seq),0], all_history[0:len(k_seq),1], color=\"red\")\n",
    "plt.plot(all_history[0:len(k_seq),0], all_history[0:len(k_seq),2], color=\"blue\")\n",
    "plt.xlabel(\"Number of Attributes\")\n",
    "plt.ylabel(\"Membership Success Rate\")\n",
    "plt.title(\"Success over increasing attribute size\")\n",
    "plt.show()"
   ]
  },
  {
   "cell_type": "code",
   "execution_count": 22,
   "metadata": {},
   "outputs": [],
   "source": [
    "import pandas as pd\n",
    "\n",
    "data: pd.DataFrame = pd.read_csv(\n",
    "    \"https://raw.githubusercontent.com/opendp/cs208/main/spring2022/data/FultonPUMS5reconstruction.csv\")\n",
    "target = \"uscitizen\"\n",
    "\n",
    "pub = [\"sex\", \"age\", \"educ\", \"latino\", \"black\", \"asian\",\n",
    "       \"married\", \"divorced\", \"children\", \"disability\",\n",
    "       \"militaryservice\", \"employed\", \"englishability\"]"
   ]
  },
  {
   "cell_type": "code",
   "execution_count": 23,
   "metadata": {},
   "outputs": [],
   "source": [
    "def execute_means_exact(predicates):\n",
    "    return data[target].values @ np.stack([pred(data) for pred in predicates], axis=1)/len(data)\n",
    "\n",
    "\n",
    "def make_random_predicate():\n",
    "    \"\"\"Returns a (pseudo)random predicate function by hashing public identifiers.\"\"\"\n",
    "    prime = 691\n",
    "    desc = np.random.randint(prime, size=len(pub))\n",
    "    # this predicate maps data into a 1-d ndarray of booleans\n",
    "    #   (where `@` is the dot product and `%` modulus)\n",
    "    return lambda data: ((data[pub].values @ desc) % prime % 2).astype(bool)\n"
   ]
  },
  {
   "cell_type": "code",
   "execution_count": 24,
   "metadata": {},
   "outputs": [],
   "source": [
    "def membership_attack(predicates, answers, alice, pop_params):\n",
    "    sample_mean = execute_means_exact(predicates)\n",
    "    population_mean = 2 * pop_params - 1.\n",
    "    \n",
    "    output = null_distribution(test_dwork, pop_params, population_mean)\n",
    "    testdist = output['nulldist']\n",
    "    critical_value = output['critical_val']\n",
    "    \n",
    "    test_statistic = test_dwork(alice=alice, sample_mean=sample_mean, population_mean=population_mean)\n",
    "    dwork_membership_success = (test_statistic>critical_value)\n",
    "    \n",
    "    return dwork_membership_success"
   ]
  },
  {
   "cell_type": "code",
   "execution_count": 25,
   "metadata": {},
   "outputs": [
    {
     "name": "stdout",
     "output_type": "stream",
     "text": [
      "[0.0]\n",
      "[1.0]\n",
      "[0.0, 0.0]\n",
      "[1.0, 1.0]\n",
      "[0.0, 0.0, 0.0]\n",
      "[1.0, 1.0, 1.0]\n",
      "[0.0, 0.0, 0.0, 0.0]\n",
      "[1.0, 1.0, 1.0, 1.0]\n"
     ]
    }
   ],
   "source": [
    "num_trials = 100\n",
    "num_predicates = np.arange(2, 6) * len(data)\n",
    "fp_results = []\n",
    "tp_results = []\n",
    "\n",
    "for j in range(0, len(num_predicates)):\n",
    "    fp = 0\n",
    "    tp = 0\n",
    "    for i in range(num_trials):\n",
    "        predicates = [make_random_predicate() for _ in range(num_predicates[j])]\n",
    "        d = len(predicates)\n",
    "        sample_mean = execute_means_exact(predicates)\n",
    "        pop_params = np.random.uniform(0.5, 1, d)\n",
    "        alice = synthesize(sample_mean, n=1)[0]\n",
    "        null_alice = synthesize(pop_params, n=1)[0]\n",
    "        she_in = membership_attack(predicates, _, null_alice, pop_params)\n",
    "        fp += she_in==True\n",
    "        she_in = membership_attack(predicates, _, alice, pop_params)\n",
    "        tp += she_in==True\n",
    "    fp_results.append(fp/num_trials)\n",
    "    tp_results.append(tp/num_trials)\n",
    "    print(fp_results)\n",
    "    print(tp_results)\n",
    "        "
   ]
  },
  {
   "cell_type": "code",
   "execution_count": 26,
   "metadata": {},
   "outputs": [
    {
     "data": {
      "image/png": "[encoded data removed]",
      "text/plain": [
       "<Figure size 432x288 with 1 Axes>"
      ]
     },
     "metadata": {
      "needs_background": "light"
     },
     "output_type": "display_data"
    },
    {
     "data": {
      "image/png": "[encoded data removed]",
      "text/plain": [
       "<Figure size 432x288 with 1 Axes>"
      ]
     },
     "metadata": {
      "needs_background": "light"
     },
     "output_type": "display_data"
    }
   ],
   "source": [
    "import matplotlib.pyplot as plt\n",
    "\n",
    "plt.plot(num_predicates, fp_results)\n",
    "plt.xlabel(\"Number of Predicates\")\n",
    "plt.ylabel(\"False Positive Rate\")\n",
    "plt.title(\"False Positive Rate as Number of Predicates Increases\")\n",
    "plt.show()\n",
    "\n",
    "plt.plot(num_predicates, tp_results)\n",
    "plt.xlabel(\"Number of Predicates\")\n",
    "plt.ylabel(\"True Positive Rate\")\n",
    "plt.title(\"True Positive Rate as Number of Predicates Increases\")\n",
    "plt.show()"
   ]
  },
  {
   "cell_type": "code",
   "execution_count": 29,
   "metadata": {},
   "outputs": [],
   "source": [
    "def execute_means_exact(dat, predicates):\n",
    "    \"\"\"Evaluate predicates on the dataset 'dat' and return the means.\"\"\"\n",
    "    return dat[target].values @ np.stack([pred(dat) for pred in predicates], axis=1)/len(dat)\n",
    "\n",
    "def membership_attack(answers, alice, pop_params):\n",
    "    \"\"\"Perform membership attack using dwork et al. test statistic.\n",
    "    :return: True if alice is in data.\"\"\"\n",
    "\n",
    "    population_mean = 2 * pop_params - 1. \n",
    "\n",
    "    output = null_distribution(test_dwork, pop_params, population_mean)\n",
    "    critical_value = output[\"critical_val\"]\n",
    "\n",
    "    # membership attack here\n",
    "    test_statistic = test_dwork(alice=alice, sample_mean=answers, population_mean=population_mean)\n",
    "    dwork_membership_success = (test_statistic > critical_value)\n",
    "    return dwork_membership_success"
   ]
  },
  {
   "cell_type": "code",
   "execution_count": null,
   "metadata": {},
   "outputs": [
    {
     "name": "stdout",
     "output_type": "stream",
     "text": [
      "Predicate space dimensionality: 200\n",
      "387.24075078964233 seconds\n",
      "Predicate space dimensionality: 300\n",
      "553.8914272785187 seconds\n",
      "Predicate space dimensionality: 400\n",
      "667.840245962143 seconds\n",
      "Predicate space dimensionality: 500\n"
     ]
    }
   ],
   "source": [
    "import time\n",
    "\n",
    "small_data: pd.DataFrame = pd.read_csv(\n",
    "    \"https://raw.githubusercontent.com/opendp/cs208/main/spring2022/data/FultonPUMS5full.csv\")\\\n",
    "    .sample(n=100)\n",
    "\n",
    "num_trials = 1000\n",
    "fp_results = []\n",
    "tp_results = []\n",
    "\n",
    "num_predicates = np.arange(2, 6) * len(small_data)\n",
    "for d in num_predicates:\n",
    "    fp = 0\n",
    "    tp = 0\n",
    "\n",
    "    print('Predicate space dimensionality:', d)\n",
    "\n",
    "    start_time = time.time()\n",
    "    for i in range(num_trials):\n",
    "        \n",
    "        # regenerate predicates for each trial\n",
    "        predicates = [make_random_predicate() for _ in range(d)]\n",
    "\n",
    "        sample_mean = execute_means_exact(small_data, predicates)\n",
    "\n",
    "        # alice is in the sample (Fulton) and null_alice is from the population (U.S.)\n",
    "        # use the following population parameters\n",
    "        # (imagine whole of U.S. is the population and Fulton is below it so we see a clear signal)\n",
    "        pop_params = np.random.uniform(0.5, 1.0, d)\n",
    "\n",
    "        null_alice = synthesize(population_prob=pop_params, n=1)[0]\n",
    "        fp += membership_attack(sample_mean, null_alice, pop_params)\n",
    "\n",
    "        alice = synthesize(population_prob=sample_mean, n=1)[0]\n",
    "        tp += membership_attack(sample_mean, alice, pop_params)\n",
    "\n",
    "    print(f\"{time.time() - start_time} seconds\")\n",
    "    fp_results.append(fp / num_trials)\n",
    "    tp_results.append(tp / num_trials)\n",
    "\n",
    "print(fp_results)\n",
    "print(tp_results)"
   ]
  },
  {
   "cell_type": "code",
   "execution_count": null,
   "metadata": {},
   "outputs": [],
   "source": [
    "import matplotlib.pyplot as plt\n",
    "\n",
    "plt.plot(num_predicates, fp_results)\n",
    "plt.xlabel(\"Number of Predicates\")\n",
    "plt.ylabel(\"False Positive Rate\")\n",
    "plt.title(\"False Positive Rate as Number of Predicates Increases\")\n",
    "plt.show()\n",
    "\n",
    "plt.plot(num_predicates, tp_results)\n",
    "plt.xlabel(\"Number of Predicates\")\n",
    "plt.ylabel(\"True Positive Rate\")\n",
    "plt.title(\"True Positive Rate as Number of Predicates Increases\")\n",
    "plt.show()"
   ]
  },
  {
   "cell_type": "code",
   "execution_count": null,
   "metadata": {},
   "outputs": [],
   "source": []
  }
 ],
 "metadata": {
  "deepnote": {
   "is_reactive": false
  },
  "deepnote_execution_queue": [],
  "deepnote_notebook_id": "b7353f29-ce56-41b1-bce5-f7fb8bbd86be",
  "kernelspec": {
   "display_name": "Python 3 (ipykernel)",
   "language": "python",
   "name": "python3"
  },
  "language_info": {
   "codemirror_mode": {
    "name": "ipython",
    "version": 3
   },
   "file_extension": ".py",
   "mimetype": "text/x-python",
   "name": "python",
   "nbconvert_exporter": "python",
   "pygments_lexer": "ipython3",
   "version": "3.9.10"
  }
 },
 "nbformat": 4,
 "nbformat_minor": 2
}
