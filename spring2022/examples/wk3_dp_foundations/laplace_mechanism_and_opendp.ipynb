{
 "cells": [
  {
   "cell_type": "markdown",
   "metadata": {
    "cell_id": "f4f70b2e-6591-44d7-af1d-8b49d252be76",
    "deepnote_cell_type": "text-cell-h3",
    "is_collapsed": false,
    "tags": []
   },
   "source": [
    "### Laplace Mechanism for Differential Privacy"
   ]
  },
  {
   "cell_type": "markdown",
   "metadata": {
    "cell_id": "d8eabdba-b9bc-4b89-821a-3139ca1a5f0c",
    "deepnote_cell_type": "text-cell-p",
    "is_collapsed": false,
    "tags": []
   },
   "source": [
    "Here we construct the basic building blocks for a Laplace mechanism, a random sampler from the distribution, a clamp/clip/censor function, the function for the true mean, and then the DP release algorithm itself."
   ]
  },
  {
   "cell_type": "code",
   "execution_count": 1,
   "metadata": {
    "cell_id": "b0f965e5-dd06-4487-a59c-f2f2db689f37",
    "deepnote_cell_type": "code",
    "deepnote_output_heights": [
     79
    ],
    "deepnote_to_be_reexecuted": false,
    "execution_millis": 0,
    "execution_start": 1644491773219,
    "source_hash": "fae5b327",
    "tags": []
   },
   "outputs": [],
   "source": [
    "import numpy as np\n",
    "\n",
    "def laplace(shift=0., scale=1., size=None):\n",
    "    \"\"\"Sample from the laplace distribution.\"\"\"\n",
    "    p = np.random.uniform(low=-0.5, high=0.5, size=size)\n",
    "    draws = shift - scale * np.sign(p) * np.log(1 - 2 * abs(p))\n",
    "    return draws\n",
    "\n",
    "    # the easy way\n",
    "    # return np.random.laplace(loc=shift, scale=scale, size=size)\n",
    "\n",
    "\n",
    "def clamp(x, bounds):\n",
    "    \"\"\"Replace any x_i less than lower with lower, \n",
    "           and any x_i greater than upper with upper.\"\"\"\n",
    "    lower, upper = bounds\n",
    "    x_clamped = x.copy()\n",
    "    x_clamped[x<x_clamped] = lower\n",
    "    x_clamped[x>x_clamped] = upper\n",
    "    return x_clamped\n",
    "\n",
    "    # the easy way\n",
    "    # return np.clip(x, *bounds)\n",
    "\n",
    "\n",
    "def bounded_mean(x, bounds):\n",
    "    lower = min(x)\n",
    "    upper = max(x)\n",
    "    bounds = (lower, upper)\n",
    "\n",
    "    x_clamped = clamp(x, bounds)\n",
    "    bounded_mean = np.mean(x_clamped)\n",
    "    return bounded_mean\n",
    "\n",
    "    # the easy way\n",
    "    # return np.mean(clamp(x,bounds))\n",
    "\n",
    "\n",
    "def release_dp_mean(x, bounds, epsilon):\n",
    "    \"\"\"Release a DP mean. \n",
    "    Assumes that the dataset size n is public information.\n",
    "    \"\"\"\n",
    "\n",
    "    # privatize\n",
    "    n = len(x)\n",
    "    lower, upper = bounds\n",
    "    sensitivity = something here\n",
    "    scale = something here\n",
    "    \n",
    "    dp_mean = something here\n",
    "    return dp_mean\n",
    "\n",
    "    # the compact way\n",
    "    # return laplace(shift=mean(x_clamped(x)), scale=(upper-lower)/(n*epsilon))\n",
    "    "
   ]
  },
  {
   "cell_type": "markdown",
   "metadata": {
    "cell_id": "cad0ed5c-7494-446e-a0b5-e81cf4ceafbd",
    "deepnote_cell_type": "text-cell-p",
    "is_collapsed": false,
    "tags": []
   },
   "source": [
    "Read in the data.  We're going to use the PUMS dataset we are familiar with, and focus on the education variable, a 16 point scale."
   ]
  },
  {
   "cell_type": "code",
   "execution_count": 2,
   "metadata": {
    "cell_id": "90cb5331-7ad7-4c5d-ba59-f22254ad8128",
    "deepnote_cell_type": "code",
    "deepnote_to_be_reexecuted": false,
    "execution_millis": 179,
    "execution_start": 1644491773261,
    "source_hash": "af79b62e",
    "tags": []
   },
   "outputs": [
    {
     "name": "stdout",
     "output_type": "stream",
     "text": [
      "10.608674517357178\n"
     ]
    }
   ],
   "source": [
    "import pandas as pd\n",
    "data = pd.read_csv(\n",
    "    \"https://raw.githubusercontent.com/opendp/cs208/main/spring2022/data/FultonPUMS5full.csv\")\n",
    "\n",
    "# define public information\n",
    "n = len(data)            # in this case, dataset length is considered public, and is not protected\n",
    "educ_bounds = (1., 16.)  # easily guessable without looking at the data\n",
    "\n",
    "educ = data['educ'].values.astype(float)\n",
    "print(release_dp_mean(educ, bounds=educ_bounds, epsilon=1.))"
   ]
  },
  {
   "cell_type": "markdown",
   "metadata": {
    "cell_id": "ed10cd00-b971-4312-9a37-dfec3f3ea5e1",
    "deepnote_cell_type": "text-cell-p",
    "is_collapsed": false,
    "tags": []
   },
   "source": [
    "Now that we have a mechanism available, let's try a new one, the histogram.  Histograms give counts of the number of observations within defined partitions of the variable domain.  Consider carefully the sensitivity for the histogram, which depends on which definition of neighbouring we are using."
   ]
  },
  {
   "cell_type": "code",
   "execution_count": 3,
   "metadata": {
    "cell_id": "dba8bb7f-757e-47d9-8630-5d8510625a1e",
    "deepnote_cell_type": "code",
    "deepnote_to_be_reexecuted": false,
    "execution_millis": 6,
    "execution_start": 1644491773443,
    "source_hash": "3f98dbd0",
    "tags": []
   },
   "outputs": [],
   "source": [
    "def release_histogram(x, epsilon, categories):\n",
    "    sensitivity = something here\n",
    "    scale = something here\n",
    "    \n",
    "    # sensitive_histogram = np.histogram(x, bins=categories)[0]  # [0] is counts [1] is bins\n",
    "\n",
    "    # create a {category: count} hashmap\n",
    "    counts = dict(zip(*np.unique(x, return_counts=True)))\n",
    "    # look up the count of each category, or zero if not exists\n",
    "    sensitive_histogram = np.array([counts.get(cat, 0) for cat in categories])\n",
    "\n",
    "    dp_histogram = something here\n",
    "    return dp_histogram\n"
   ]
  },
  {
   "cell_type": "markdown",
   "metadata": {
    "cell_id": "dbb8520e-5afe-4ac8-a484-7f0c213aa668",
    "deepnote_cell_type": "text-cell-p",
    "is_collapsed": false,
    "tags": []
   },
   "source": [
    "Let's call our privacy-preserving histogram."
   ]
  },
  {
   "cell_type": "code",
   "execution_count": 4,
   "metadata": {
    "cell_id": "0288a9e3-16e1-4bb6-aae0-7038e1ba3c40",
    "deepnote_cell_type": "code",
    "deepnote_to_be_reexecuted": false,
    "execution_millis": 5,
    "execution_start": 1644491773498,
    "source_hash": "52c03c51",
    "tags": []
   },
   "outputs": [
    {
     "name": "stdout",
     "output_type": "stream",
     "text": [
      "[ 274.27504817  137.54720022  359.31917592  471.21267774  500.62950321\n",
      "  757.2251662   892.53079748 1051.79452552 5148.26777801 1393.54647601\n",
      " 3964.41066181 1162.07367164 6285.39639406 2265.18144374  796.68306727\n",
      "  309.19641575]\n"
     ]
    }
   ],
   "source": [
    "educ_categories = list(range(1, 17))\n",
    "output = release_histogram(educ, epsilon=1., categories=educ_categories)\n",
    "\n",
    "print(output)"
   ]
  },
  {
   "cell_type": "markdown",
   "metadata": {
    "cell_id": "b92c36e8-c875-4ff2-bd83-dd0a2121797e",
    "deepnote_cell_type": "text-cell-p",
    "is_collapsed": false,
    "tags": []
   },
   "source": [
    "We're going to simulate repeated draws from the Laplace mechanism to examine the utility it offers over the range of epsilon values and dataset sizes, for our education variable.  "
   ]
  },
  {
   "cell_type": "markdown",
   "metadata": {
    "cell_id": "804ad7db-0c74-4d81-8891-3788d7fb7c8a",
    "deepnote_cell_type": "text-cell-p",
    "is_collapsed": false,
    "tags": []
   },
   "source": [
    "We'll need a way to construct new datasets, given we only have one available.  The (nonparametric) bootstrap function lets us construct datasets even larger than our original source data if needed, by treating the sample data as if it is a population from which we can resample."
   ]
  },
  {
   "cell_type": "code",
   "execution_count": 5,
   "metadata": {
    "cell_id": "3a69c9c0-6065-402e-ace6-b528ed70525d",
    "deepnote_cell_type": "code",
    "deepnote_output_heights": [
     79,
     194
    ],
    "deepnote_to_be_reexecuted": false,
    "execution_millis": 10789,
    "execution_start": 1644491773499,
    "source_hash": "e57d88c7",
    "tags": []
   },
   "outputs": [
    {
     "name": "stdout",
     "output_type": "stream",
     "text": [
      "[ 200  230  266  307  355  410  474  547  632  730  843  974 1124 1298\n",
      " 1500]\n",
      "[1.   0.56 0.31 0.17 0.1 ]\n"
     ]
    }
   ],
   "source": [
    "import math\n",
    "\n",
    "def bootstrap(x, n):\n",
    "    \"\"\"Sample n values with replacement from n.\"\"\"\n",
    "    index = np.random.randint(low=0., high=len(x), size=n)\n",
    "    return x[index]\n",
    "\n",
    "    # the easy way\n",
    "    # return np.random.choice(x, size=n)\n",
    "\n",
    "\n",
    "n_sims = 10\n",
    "\n",
    "log_seq = np.linspace(start=math.log10(200), stop=math.log10(1500), num=15)\n",
    "n_seq = (10**log_seq).astype(int)\n",
    "print(n_seq)\n",
    "\n",
    "\n",
    "log_seq = np.linspace(start=math.log10(1), stop=math.log10(0.1), num=5)\n",
    "ep_seq = (10**log_seq *100).astype(int)/100\n",
    "print(ep_seq)\n",
    "\n",
    "agg_history = []\n",
    "\n",
    "aggcount = 0\n",
    "\n",
    "for i, n_sim in enumerate(n_seq):\n",
    "    for j, epsilon_sim in enumerate(ep_seq):\n",
    "        sq_error = 0\n",
    "\n",
    "        for k in range(n_sims):\n",
    "            bootdata = bootstrap(educ, n_sim)\n",
    "            sensitive_mean = bounded_mean(x=bootdata, bounds=educ_bounds)\n",
    "            dp_mean = release_dp_mean(x=bootdata, bounds=educ_bounds, epsilon=epsilon_sim)\n",
    "            sq_error += (dp_mean - sensitive_mean) ** 2\n",
    "\n",
    "        agg_history.append([\n",
    "            n_sim,\n",
    "            epsilon_sim,\n",
    "            np.sqrt(sq_error/n_sims)  #RMSE\n",
    "        ])\n",
    "        \n",
    "        aggcount += 1\n",
    "\n",
    "agg_history = pd.DataFrame(agg_history, columns=[\"N\", \"epsilon\", \"error\"])\n"
   ]
  },
  {
   "cell_type": "markdown",
   "metadata": {
    "cell_id": "82033dcf-f361-4a48-9354-dcc02a79273c",
    "deepnote_cell_type": "text-cell-p",
    "is_collapsed": false,
    "tags": []
   },
   "source": [
    "Graphing our results is often a case of finding an approximate template and then tweaking it to convey the exact details of interest to your reader.  This template for showing the utility of DP releases will likely be commonly useful across your homeworks and project."
   ]
  },
  {
   "cell_type": "code",
   "execution_count": 19,
   "metadata": {
    "cell_id": "c49dc1f2-7f3c-45bc-8756-36c0dc1b07e9",
    "deepnote_cell_type": "code",
    "deepnote_output_heights": [
     269
    ],
    "deepnote_to_be_reexecuted": false,
    "execution_millis": 3402,
    "execution_start": 1644493068821,
    "source_hash": "8f038ee7",
    "tags": []
   },
   "outputs": [
    {
     "data": {
      "image/png": "[encoded data removed]",
      "text/plain": [
       "<Figure size 864x288 with 3 Axes>"
      ]
     },
     "metadata": {
      "image/png": {
       "height": 296,
       "width": 872
      },
      "needs_background": "light"
     },
     "output_type": "display_data"
    }
   ],
   "source": [
    "\n",
    "import matplotlib\n",
    "import matplotlib.pyplot as plt\n",
    "\n",
    "fig, axs = plt.subplots(ncols=3, figsize=(12,4), layout='constrained')\n",
    "\n",
    "axs[0].set_ylabel(\"RMSE\")\n",
    "axs[1].set_yscale(\"log\")\n",
    "axs[2].set_xscale(\"log\")\n",
    "axs[2].set_yscale(\"log\")\n",
    "\n",
    "for epsilon_sim, subhistory in agg_history.groupby(\"epsilon\"):\n",
    "    for ax in axs:\n",
    "        subhistory.plot(x=\"N\", y=\"error\", label=epsilon_sim, ax=ax, legend=None)\n",
    "\n",
    "## Overlay the standard error of the mean\n",
    "#se = np.std(educ) / np.sqrt(n_seq)\n",
    "#axs[1].plot(n_seq, se, linestyle='dashed', color=\"red\")\n",
    "\n",
    "_ = fig.legend(*axs[0].get_legend_handles_labels(), loc=(0.57, 0.68))\n"
   ]
  },
  {
   "cell_type": "markdown",
   "metadata": {
    "cell_id": "a909c459-982c-4e21-94b0-1e9682a8da62",
    "deepnote_cell_type": "text-cell-h3",
    "is_collapsed": false,
    "tags": []
   },
   "source": [
    "### OpenDP"
   ]
  },
  {
   "cell_type": "markdown",
   "metadata": {
    "cell_id": "d4766001-02a2-4783-9d8f-4b21f5e5fabd",
    "deepnote_cell_type": "markdown",
    "tags": []
   },
   "source": [
    "The OpenDP Project is a community effort to build trustworthy, open source software tools for analysis of private data. The core software of the OpenDP Project is the OpenDP Library.\n",
    "\n",
    "The OpenDP Library is a modular collection of statistical algorithms that adhere to differential privacy. The library is based on a conceptual framework described in [A Programming Framework for OpenDP](https://projects.iq.harvard.edu/files/opendp/files/opendp_programming_framework_11may2020_1_01.pdf).\n",
    "\n",
    "The OpenDP Library can be found on GitHub: https://github.com/opendp/opendp/"
   ]
  },
  {
   "cell_type": "code",
   "execution_count": 7,
   "metadata": {
    "cell_id": "03c739b6-a64e-49b7-9dd5-618dba5d7e4b",
    "deepnote_cell_type": "code",
    "deepnote_output_heights": [
     21
    ],
    "deepnote_to_be_reexecuted": false,
    "execution_millis": 0,
    "execution_start": 1644491789159,
    "source_hash": "a5c5ff14",
    "tags": []
   },
   "outputs": [],
   "source": [
    "from opendp.meas import *\n",
    "from opendp.trans import *\n",
    "from opendp.typing import *\n",
    "from opendp.mod import enable_features, Transformation, Measurement\n",
    "enable_features(\"contrib\", \"floating-point\")"
   ]
  },
  {
   "cell_type": "markdown",
   "metadata": {
    "cell_id": "73805e5c-b662-4771-b981-b111e346493e",
    "deepnote_cell_type": "markdown",
    "tags": []
   },
   "source": [
    "OpenDP represents computations with Transformations and Measurements."
   ]
  },
  {
   "cell_type": "code",
   "execution_count": 8,
   "metadata": {
    "cell_id": "f33d631e-644d-442c-b848-02ef20fbd2f6",
    "deepnote_cell_type": "code",
    "deepnote_output_heights": [
     21
    ],
    "deepnote_to_be_reexecuted": false,
    "execution_millis": 96,
    "execution_start": 1644491789177,
    "source_hash": "57f3841b",
    "tags": []
   },
   "outputs": [
    {
     "data": {
      "text/plain": [
       "23.114950496488117"
      ]
     },
     "execution_count": 8,
     "metadata": {},
     "output_type": "execute_result"
    }
   ],
   "source": [
    "# create a measurement that simply adds laplace noise\n",
    "scale = 0.5\n",
    "base_laplace: Measurement = make_base_laplace(scale=scale)\n",
    "\n",
    "# call the measurement like a function\n",
    "base_laplace(arg=23.)"
   ]
  },
  {
   "cell_type": "code",
   "execution_count": 9,
   "metadata": {
    "cell_id": "f28969d7-484b-4d64-a369-c74c711fd921",
    "deepnote_cell_type": "code",
    "deepnote_output_heights": [
     21
    ],
    "deepnote_to_be_reexecuted": false,
    "execution_millis": 49,
    "execution_start": 1644491789224,
    "source_hash": "1c33d2f0",
    "tags": []
   },
   "outputs": [
    {
     "data": {
      "text/plain": [
       "10.608553908251183"
      ]
     },
     "execution_count": 9,
     "metadata": {},
     "output_type": "execute_result"
    }
   ],
   "source": [
    "# create a mean transformation\n",
    "sized_bounded_mean: Transformation = make_sized_bounded_mean(size=n, bounds=educ_bounds)\n",
    "\n",
    "# call the transformation like a function\n",
    "sized_bounded_mean(arg=educ)"
   ]
  },
  {
   "cell_type": "markdown",
   "metadata": {
    "cell_id": "a8d244eb-1877-4118-9a12-6b2c16157595",
    "deepnote_cell_type": "markdown",
    "tags": []
   },
   "source": [
    "We can also _chain_ transformations and measurements. You might already think of chaining as function composition. The reason why we call it \"chaining,\" instead of \"composition,\" is because composition has a special meaning in differential privacy. In the context of differential privacy, composition refers to the joint release of more than one measurement."
   ]
  },
  {
   "cell_type": "code",
   "execution_count": 10,
   "metadata": {
    "cell_id": "68287883-9189-4e72-9a75-c46da3f107be",
    "deepnote_cell_type": "code",
    "deepnote_output_heights": [
     21
    ],
    "deepnote_to_be_reexecuted": false,
    "execution_millis": 70,
    "execution_start": 1644491789225,
    "source_hash": "5a1ddaa1",
    "tags": []
   },
   "outputs": [
    {
     "data": {
      "text/plain": [
       "10.090138755210502"
      ]
     },
     "execution_count": 10,
     "metadata": {},
     "output_type": "execute_result"
    }
   ],
   "source": [
    "# chain with the base_laplace measurement\n",
    "dp_mean: Measurement = sized_bounded_mean >> base_laplace\n",
    "\n",
    "# release a dp mean\n",
    "dp_mean(arg=educ)"
   ]
  },
  {
   "cell_type": "markdown",
   "metadata": {
    "cell_id": "5873e426-93b4-403f-a9d5-df9d67be45da",
    "deepnote_cell_type": "markdown",
    "tags": []
   },
   "source": [
    "Now that we've shown how to build up computations and execute them, lets talk about distances.\n",
    "\n",
    "Transformations and Measurements relate distances. There are three kinds of distances:\n",
    "\n",
    "1. Dataset distances  \n",
    "    (greatest distance between neighboring datasets)\n",
    "1. Sensitivities  \n",
    "    (greatest distance between queries on neighboring datasets)\n",
    "1. Privacy budget    \n",
    "    (greatest distance between the probability distributions)\n",
    "\n",
    "The following shows how the `base_laplace` measurement relates a `sensitivity` to a privacy budget, `epsilon`.\n"
   ]
  },
  {
   "cell_type": "code",
   "execution_count": 11,
   "metadata": {
    "cell_id": "d3f1ae08-f878-4083-81ed-596f649a14b8",
    "deepnote_cell_type": "code",
    "deepnote_output_heights": [
     21
    ],
    "deepnote_to_be_reexecuted": false,
    "execution_millis": 33115041,
    "execution_start": 1644491789277,
    "source_hash": "823f5a09",
    "tags": []
   },
   "outputs": [
    {
     "data": {
      "text/plain": [
       "True"
      ]
     },
     "execution_count": 11,
     "metadata": {},
     "output_type": "execute_result"
    }
   ],
   "source": [
    "# Check that when sensitivity is 0.15, the privacy usage is .30\n",
    "base_laplace.check(d_in=.15, d_out=.30)"
   ]
  },
  {
   "cell_type": "markdown",
   "metadata": {
    "cell_id": "c394f19e-66a4-4113-9bf2-6a3a84f9572e",
    "deepnote_cell_type": "markdown",
    "tags": []
   },
   "source": [
    "We can interpret this as: If the sensitivity is .15, then we could release the query answer with `laplace(scale=.5)` noise at a privacy expenditure of `.3 epsilon`. Equivalently, this data release is `.3 differentially private`, or `.3-DP`, where the privacy units are implicitly in terms of epsilon.\n",
    "\n",
    "If we were to increase the sensitivity, the same relation would fail, and the release would not be `.3-DP`."
   ]
  },
  {
   "cell_type": "code",
   "execution_count": 12,
   "metadata": {
    "cell_id": "dd829001-6ebe-444f-aaee-06728410ac0b",
    "deepnote_cell_type": "code",
    "deepnote_output_heights": [
     21
    ],
    "deepnote_to_be_reexecuted": false,
    "execution_millis": 33115015,
    "execution_start": 1644491789278,
    "source_hash": "86625187",
    "tags": []
   },
   "outputs": [
    {
     "data": {
      "text/plain": [
       "False"
      ]
     },
     "execution_count": 12,
     "metadata": {},
     "output_type": "execute_result"
    }
   ],
   "source": [
    "base_laplace.check(d_in=.16, d_out=.3)"
   ]
  },
  {
   "cell_type": "markdown",
   "metadata": {
    "cell_id": "793a68b4-7dea-4ba4-9220-f11ecf7a6033",
    "deepnote_cell_type": "markdown",
    "tags": []
   },
   "source": [
    "As you might expect, the relation will also pass for any sensitivity that is smaller, or any privacy expenditure that is larger. "
   ]
  },
  {
   "cell_type": "code",
   "execution_count": 13,
   "metadata": {
    "cell_id": "95b4054e-14e0-4dfa-85a3-c5efdade6c0f",
    "deepnote_cell_type": "code",
    "deepnote_to_be_reexecuted": false,
    "execution_millis": 33115007,
    "execution_start": 1644491789296,
    "source_hash": "b673921c",
    "tags": []
   },
   "outputs": [
    {
     "name": "stdout",
     "output_type": "stream",
     "text": [
      "True\n",
      "True\n"
     ]
    }
   ],
   "source": [
    "print(base_laplace.check(d_in=.15, d_out=.31))\n",
    "print(base_laplace.check(d_in=.14, d_out=.30))"
   ]
  },
  {
   "cell_type": "markdown",
   "metadata": {
    "cell_id": "9b8401ae-eda1-438f-96d7-ccf6d70abd71",
    "deepnote_cell_type": "markdown",
    "tags": []
   },
   "source": [
    "Similarly, the `sized_bounded_mean` transformation relates a dataset distance `max_influence` to a `sensitivity`."
   ]
  },
  {
   "cell_type": "code",
   "execution_count": 14,
   "metadata": {
    "cell_id": "8438578b-e2fb-4a9c-813b-a36c63cc1a88",
    "deepnote_cell_type": "code",
    "deepnote_output_heights": [
     21
    ],
    "deepnote_to_be_reexecuted": false,
    "execution_millis": 33114948,
    "execution_start": 1644491789313,
    "source_hash": "1a327e6",
    "tags": []
   },
   "outputs": [
    {
     "data": {
      "text/plain": [
       "True"
      ]
     },
     "execution_count": 14,
     "metadata": {},
     "output_type": "execute_result"
    }
   ],
   "source": [
    "max_influence = 1 # the greatest number of records that an individual can influence\n",
    "sized_bounded_mean.check(d_in=max_influence, d_out=.15)"
   ]
  },
  {
   "cell_type": "markdown",
   "metadata": {
    "cell_id": "4d30f0cd-5c71-4df9-bf51-1940cd395fa4",
    "deepnote_cell_type": "markdown",
    "tags": []
   },
   "source": [
    "You can also relate distances on chained computations. The units for the input and output distances come from the constituent transformations and measurements. \n",
    "\n",
    "For example, when we chain the `sized_bounded_mean` transformation and `base_laplace` measurement together, the input distance is a dataset distance, `max_influence`, and the output distance is measured in terms of a privacy budget, `epsilon`."
   ]
  },
  {
   "cell_type": "code",
   "execution_count": 15,
   "metadata": {
    "cell_id": "87ac81ae-d1a9-4226-8342-ee2ccc559ed6",
    "deepnote_cell_type": "code",
    "deepnote_output_heights": [
     21
    ],
    "deepnote_to_be_reexecuted": false,
    "execution_millis": 34,
    "execution_start": 1644491789315,
    "source_hash": "647fbf9",
    "tags": []
   },
   "outputs": [
    {
     "data": {
      "text/plain": [
       "True"
      ]
     },
     "execution_count": 15,
     "metadata": {},
     "output_type": "execute_result"
    }
   ],
   "source": [
    "# Check that when neighboring datasets differ by at most one record, the privacy usage is .3\n",
    "dp_mean.check(d_in=1, d_out=.3)"
   ]
  },
  {
   "cell_type": "markdown",
   "metadata": {
    "cell_id": "4245dac7-ee9f-4671-89a6-a4db33dd70f8",
    "deepnote_cell_type": "markdown",
    "tags": []
   },
   "source": [
    "The `release_histogram` function behaves similarly to the `make_count_by_categories` function in OpenDP."
   ]
  },
  {
   "cell_type": "code",
   "execution_count": 16,
   "metadata": {
    "cell_id": "21b306ca-a115-44a0-9f4e-c76c2e8d6ce9",
    "deepnote_cell_type": "code",
    "deepnote_to_be_reexecuted": false,
    "execution_millis": 32,
    "execution_start": 1644491789317,
    "source_hash": "a35ec05f",
    "tags": []
   },
   "outputs": [
    {
     "name": "stdout",
     "output_type": "stream",
     "text": [
      "Help on function make_count_by_categories in module opendp.trans:\n",
      "\n",
      "make_count_by_categories(categories: Any, MO: opendp.typing.SensitivityMetric = 'L1Distance<i32>', TIA: Union[ForwardRef('RuntimeType'), _GenericAlias, str, Type[Union[List, Tuple, int, float, str, bool]], tuple] = None, TOA: Union[ForwardRef('RuntimeType'), _GenericAlias, str, Type[Union[List, Tuple, int, float, str, bool]], tuple] = 'i32') -> opendp.mod.Transformation\n",
      "    Make a Transformation that computes the number of times each category appears in the data. \n",
      "    This assumes that the category set is known.\n",
      "    \n",
      "    :param categories: The set of categories to compute counts for.\n",
      "    :type categories: Any\n",
      "    :param MO: output sensitivity metric\n",
      "    :type MO: SensitivityMetric\n",
      "    :param TIA: categorical/hashable input type. Input data must be Vec<TIA>.\n",
      "    :type TIA: RuntimeTypeDescriptor\n",
      "    :param TOA: express counts in terms of this numeric type\n",
      "    :type TOA: RuntimeTypeDescriptor\n",
      "    :return: A count_by_categories step.\n",
      "    :rtype: Transformation\n",
      "    :raises AssertionError: if an argument's type differs from the expected type\n",
      "    :raises UnknownTypeError: if a type-argument fails to parse\n",
      "    :raises OpenDPException: packaged error from the core OpenDP library\n",
      "\n"
     ]
    }
   ],
   "source": [
    "help(make_count_by_categories)"
   ]
  },
  {
   "cell_type": "code",
   "execution_count": 17,
   "metadata": {
    "cell_id": "709dfa85-0b41-403d-95c3-ef90ea489cdf",
    "deepnote_cell_type": "code",
    "deepnote_output_heights": [
     325
    ],
    "deepnote_to_be_reexecuted": false,
    "execution_millis": 72,
    "execution_start": 1644491789352,
    "source_hash": "ed2be0d2",
    "tags": []
   },
   "outputs": [
    {
     "data": {
      "text/plain": [
       "[274.0585007589752,\n",
       " 143.01135804534235,\n",
       " 357.6583353225793,\n",
       " 468.61412928863473,\n",
       " 497.27259971701176,\n",
       " 756.9792458708657,\n",
       " 893.4564041374473,\n",
       " 1061.015511634635,\n",
       " 5146.801877612312,\n",
       " 1398.0194930896066,\n",
       " 3963.904782151356,\n",
       " 1159.1778959673352,\n",
       " 6283.520282016287,\n",
       " 2268.090617861308,\n",
       " 794.3033770310691,\n",
       " 311.48354413102135,\n",
       " -0.8852487747559074]"
      ]
     },
     "execution_count": 17,
     "metadata": {},
     "output_type": "execute_result"
    }
   ],
   "source": [
    "# release a histogram with laplace noise\n",
    "dp_histogram_laplace = (\n",
    "    make_count_by_categories(categories=educ_categories, TOA=float, MO=L1Distance[float]) >>\n",
    "    make_base_laplace(scale=1., D=VectorDomain[AllDomain[float]])\n",
    ")\n",
    "dp_histogram_laplace(educ.astype(np.int32))\n"
   ]
  },
  {
   "cell_type": "markdown",
   "metadata": {
    "cell_id": "e013ae3f-4ba0-44a6-9ce7-d8056012e099",
    "deepnote_cell_type": "markdown",
    "tags": []
   },
   "source": [
    "In practice, it's more secure to chain with the geometric mechanism:"
   ]
  },
  {
   "cell_type": "code",
   "execution_count": 18,
   "metadata": {
    "cell_id": "e0575a7f-cd41-4349-b55a-6187f6c78f5a",
    "deepnote_cell_type": "code",
    "deepnote_output_heights": [
     325
    ],
    "deepnote_to_be_reexecuted": false,
    "execution_millis": 58,
    "execution_start": 1644491789367,
    "source_hash": "c8215818",
    "tags": []
   },
   "outputs": [
    {
     "data": {
      "text/plain": [
       "[272,\n",
       " 143,\n",
       " 355,\n",
       " 470,\n",
       " 496,\n",
       " 756,\n",
       " 894,\n",
       " 1057,\n",
       " 5146,\n",
       " 1393,\n",
       " 3965,\n",
       " 1155,\n",
       " 6280,\n",
       " 2269,\n",
       " 793,\n",
       " 308,\n",
       " 0]"
      ]
     },
     "execution_count": 18,
     "metadata": {},
     "output_type": "execute_result"
    }
   ],
   "source": [
    "# release a histogram with geometric noise\n",
    "dp_histogram_geometric = (\n",
    "    make_count_by_categories(categories=educ_categories) >>\n",
    "    make_base_geometric(scale=1., D=VectorDomain[AllDomain[int]])\n",
    ")\n",
    "dp_histogram_geometric(educ.astype(np.int32))"
   ]
  },
  {
   "cell_type": "code",
   "execution_count": 18,
   "metadata": {
    "cell_id": "63d03338-a752-4949-ae4d-6075889426a3",
    "deepnote_cell_type": "code",
    "deepnote_to_be_reexecuted": false,
    "execution_millis": 0,
    "execution_start": 1644491789392,
    "source_hash": "b623e53d",
    "tags": []
   },
   "outputs": [],
   "source": []
  },
  {
   "cell_type": "markdown",
   "metadata": {
    "created_in_deepnote_cell": true,
    "deepnote_cell_type": "markdown",
    "tags": []
   },
   "source": [
    "<a style='text-decoration:none;line-height:16px;display:flex;color:#5B5B62;padding:10px;justify-content:end;' href='https://deepnote.com?utm_source=created-in-deepnote-cell&projectId=0df97151-1c38-49bc-a037-2a058b96fd82' target=\"_blank\">\n",
    "<img alt='Created in deepnote.com' style='display:inline;max-height:16px;margin:0px;margin-right:7.5px;' src='data:image/svg+xml;base64,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' > </img>\n",
    "Created in <span style='font-weight:600;margin-left:4px;'>Deepnote</span></a>"
   ]
  }
 ],
 "metadata": {
  "deepnote": {
   "is_reactive": false
  },
  "deepnote_execution_queue": [],
  "deepnote_notebook_id": "087203e9-d4cc-4fd7-82c2-18d93d97386d",
  "kernelspec": {
   "display_name": "Python 3",
   "language": "python",
   "name": "python3"
  },
  "language_info": {
   "codemirror_mode": {
    "name": "ipython",
    "version": 3
   },
   "file_extension": ".py",
   "mimetype": "text/x-python",
   "name": "python",
   "nbconvert_exporter": "python",
   "pygments_lexer": "ipython3",
   "version": "3.7.1"
  }
 },
 "nbformat": 4,
 "nbformat_minor": 2
}
