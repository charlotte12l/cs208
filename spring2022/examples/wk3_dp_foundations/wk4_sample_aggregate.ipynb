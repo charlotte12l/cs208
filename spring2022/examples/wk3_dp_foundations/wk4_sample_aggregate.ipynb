{
 "cells": [
  {
   "cell_type": "markdown",
   "source": "## Sample-and-Aggregate algorithm using our DP Mean and Gaussian Mechanism\n",
   "metadata": {
    "tags": [],
    "cell_id": "78f3ba1e-c430-4839-849d-51c0e75137e3",
    "deepnote_cell_type": "markdown"
   }
  },
  {
   "cell_type": "code",
   "metadata": {
    "tags": [],
    "deepnote_to_be_reexecuted": false,
    "source_hash": "753f31f1",
    "execution_start": 1645071266172,
    "execution_millis": 12929863,
    "deepnote_output_heights": [
     79
    ],
    "cell_id": "00001-8278110f-f149-40fc-b716-e5f4751207c8",
    "deepnote_cell_type": "code"
   },
   "source": "import numpy as np\nimport pandas as pd\n\n# established in previous lectures\nfrom mock_dp_library import *",
   "outputs": [],
   "execution_count": null
  },
  {
   "cell_type": "markdown",
   "source": "Read in the data.  We're going to use the PUMS dataset we are familiar with, and focus on the education variable, a 16 point scale.",
   "metadata": {
    "tags": [],
    "is_collapsed": false,
    "cell_id": "00002-e081a640-a554-4c7d-a764-c9b90faaf7e1",
    "deepnote_cell_type": "text-cell-p"
   }
  },
  {
   "cell_type": "code",
   "metadata": {
    "tags": [],
    "deepnote_to_be_reexecuted": false,
    "source_hash": "af79b62e",
    "execution_start": 1645071266174,
    "execution_millis": 179,
    "cell_id": "00003-f98ddaaa-2be5-47bf-96fc-7236782cb280",
    "deepnote_cell_type": "code"
   },
   "source": "import pandas as pd\ndata = pd.read_csv(\n    \"https://raw.githubusercontent.com/opendp/cs208/main/spring2022/data/FultonPUMS5full.csv\")\n\n# define public information\nn = len(data)            # in this case, dataset length is considered public, and is not protected\neduc_bounds = (1., 16.)  # easily guessable without looking at the data\n\neduc = data['educ'].values.astype(float)\nprint(release_dp_mean(educ, bounds=educ_bounds, epsilon=1.))",
   "outputs": [
    {
     "name": "stdout",
     "text": "10.610644633036072\n",
     "output_type": "stream"
    }
   ],
   "execution_count": null
  },
  {
   "cell_type": "code",
   "metadata": {
    "cell_id": "83a41178-8e38-4063-9698-2ec152692fe4",
    "tags": [],
    "deepnote_to_be_reexecuted": false,
    "source_hash": "6faa249a",
    "execution_start": 1645071266424,
    "execution_millis": 11548385,
    "deepnote_cell_type": "code"
   },
   "source": "def sample_aggregate(data: pd.DataFrame, function, partition_count: int, bounds, epsilon, delta):\n\n    ## SAMPLE\n    # shuffle without replacement\n    data = data.sample(frac=1, replace=False)\n    # split data into `partition_count` datasets\n    partitions = np.array_split(data, partition_count)\n\n    ## EVALUATE\n    results = []\n    for partition in partitions:\n        results.append(function(partition))\n\n    ## AGGREGATE\n    private_release = release_dp_mean(\n        results, bounds=bounds, epsilon=epsilon, delta=delta, mechanism=\"gaussian\")\n    \n    return(private_release)",
   "outputs": [],
   "execution_count": null
  },
  {
   "cell_type": "code",
   "metadata": {
    "cell_id": "ae58b3eb-57ac-4ed0-b43b-1668a9eeb4a1",
    "tags": [],
    "deepnote_to_be_reexecuted": false,
    "source_hash": "8cff4794",
    "execution_start": 1645071453290,
    "execution_millis": 333,
    "deepnote_output_heights": [
     21,
     367
    ],
    "deepnote_cell_type": "code"
   },
   "source": "def correlation(data):\n    return np.corrcoef(data['educ'], data['income'])[0, 1]\n\n\ndp_correlation = sample_aggregate(\n    data, correlation, partition_count=200, bounds=[0,1], epsilon=1, delta=1e-6)\n\nprint(\"True correlation:\", correlation(data))\nprint(\"DP   correlation:\", dp_correlation)",
   "outputs": [
    {
     "name": "stdout",
     "text": "True correlation: 0.35472882626591723\nDP   correlation: 0.370176414211767\n",
     "output_type": "stream"
    }
   ],
   "execution_count": null
  },
  {
   "cell_type": "code",
   "metadata": {
    "cell_id": "f2025fad-a47b-4376-94c6-10ee7c164b69",
    "tags": [],
    "deepnote_to_be_reexecuted": false,
    "source_hash": "b623e53d",
    "execution_start": 1645071268251,
    "deepnote_cell_type": "code"
   },
   "source": "",
   "outputs": [],
   "execution_count": null
  },
  {
   "cell_type": "markdown",
   "source": "<a style='text-decoration:none;line-height:16px;display:flex;color:#5B5B62;padding:10px;justify-content:end;' href='https://deepnote.com?utm_source=created-in-deepnote-cell&projectId=0df97151-1c38-49bc-a037-2a058b96fd82' target=\"_blank\">\n<img alt='Created in deepnote.com' style='display:inline;max-height:16px;margin:0px;margin-right:7.5px;' src='data:image/svg+xml;base64,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' > </img>\nCreated in <span style='font-weight:600;margin-left:4px;'>Deepnote</span></a>",
   "metadata": {
    "tags": [],
    "created_in_deepnote_cell": true,
    "deepnote_cell_type": "markdown"
   }
  }
 ],
 "nbformat": 4,
 "nbformat_minor": 2,
 "metadata": {
  "orig_nbformat": 2,
  "deepnote": {
   "is_reactive": false
  },
  "deepnote_notebook_id": "dfde62b0-d99f-4ff8-9850-1a15067c4a22",
  "deepnote_execution_queue": []
 }
}